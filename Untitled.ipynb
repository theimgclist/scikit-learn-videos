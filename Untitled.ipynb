{
 "cells": [
  {
   "cell_type": "code",
   "execution_count": 38,
   "metadata": {
    "collapsed": false
   },
   "outputs": [
    {
     "name": "stdout",
     "output_type": "stream",
     "text": [
      "Enter the fibonacci term 4\n",
      "-2\n",
      "-3\n",
      "The 4th Fibonacci term is -3\n"
     ]
    }
   ],
   "source": [
    "# Created by Avinash on 21st July, 2017\n",
    "import sys\n",
    "def nth_fibonacci_number_memoization(n, memo):\n",
    "\tif memo[n] == -1:\n",
    "\t\tif n <= 1:\n",
    "\t\t\tmemo[n] = n\n",
    "\t\telse:\n",
    "\t\t\tmemo[n] = nth_fibonacci_number_memoization(n-1,memo) + nth_fibonacci_number_memoization(n-2,memo);\n",
    "\treturn memo[n];\n",
    "\n",
    "def nth_fibonacci_number_tabulation(n, memo):\n",
    "\tif n == 1:\n",
    "\t\tmemo[0] = 0\n",
    "\telif n == 2:\n",
    "\t\tmemo[1] = 1\n",
    "\telse:\n",
    "\t\tindex = 2\n",
    "\t\tfor i in memo[2:]:\n",
    "\t\t\tmemo[index] = memo[index-1] + memo[index-2]\n",
    "\t\t\tprint(memo[index])\n",
    "\t\t\tindex = index + 1\n",
    "\treturn memo[n-1]\n",
    "\t\n",
    "            \n",
    "def process():\n",
    "\tn = int(input(\"Enter the fibonacci term \"))\n",
    "\tmemo = [-1]*(n)\n",
    "\t#print(\"The %dth Fibonacci term is %d\" %(n, nth_fibonacci_number_memoization(n-1,memo)))\n",
    "\tprint(\"The %dth Fibonacci term is %d\" %(n, nth_fibonacci_number_tabulation(n,memo)))\n",
    "\t\n",
    "\n",
    "if __name__==\"__main__\":\n",
    "\tprocess()\n"
   ]
  },
  {
   "cell_type": "code",
   "execution_count": 39,
   "metadata": {
    "collapsed": false
   },
   "outputs": [
    {
     "ename": "NameError",
     "evalue": "name 'xrange' is not defined",
     "output_type": "error",
     "traceback": [
      "\u001b[0;31m---------------------------------------------------------------------------\u001b[0m",
      "\u001b[0;31mNameError\u001b[0m                                 Traceback (most recent call last)",
      "\u001b[0;32m<ipython-input-39-03b7545a0849>\u001b[0m in \u001b[0;36m<module>\u001b[0;34m()\u001b[0m\n\u001b[0;32m----> 1\u001b[0;31m \u001b[0mxrange\u001b[0m\u001b[1;33m(\u001b[0m\u001b[0mhelp\u001b[0m\u001b[1;33m)\u001b[0m\u001b[1;33m\u001b[0m\u001b[0m\n\u001b[0m",
      "\u001b[0;31mNameError\u001b[0m: name 'xrange' is not defined"
     ]
    }
   ],
   "source": [
    "xrange(help)"
   ]
  },
  {
   "cell_type": "code",
   "execution_count": 40,
   "metadata": {
    "collapsed": false
   },
   "outputs": [
    {
     "ename": "NameError",
     "evalue": "name 'xrange' is not defined",
     "output_type": "error",
     "traceback": [
      "\u001b[0;31m---------------------------------------------------------------------------\u001b[0m",
      "\u001b[0;31mNameError\u001b[0m                                 Traceback (most recent call last)",
      "\u001b[0;32m<ipython-input-40-aa47fce920c7>\u001b[0m in \u001b[0;36m<module>\u001b[0;34m()\u001b[0m\n\u001b[0;32m----> 1\u001b[0;31m \u001b[0mhelp\u001b[0m\u001b[1;33m(\u001b[0m\u001b[0mxrange\u001b[0m\u001b[1;33m)\u001b[0m\u001b[1;33m\u001b[0m\u001b[0m\n\u001b[0m",
      "\u001b[0;31mNameError\u001b[0m: name 'xrange' is not defined"
     ]
    }
   ],
   "source": [
    "help(xrange)\n"
   ]
  },
  {
   "cell_type": "code",
   "execution_count": 44,
   "metadata": {
    "collapsed": false
   },
   "outputs": [
    {
     "name": "stdout",
     "output_type": "stream",
     "text": [
      "2\n",
      "3\n",
      "4\n",
      "5\n",
      "6\n",
      "7\n",
      "8\n",
      "9\n"
     ]
    }
   ],
   "source": [
    "for i in range(2, 10):\n",
    "    print(i)"
   ]
  },
  {
   "cell_type": "code",
   "execution_count": null,
   "metadata": {
    "collapsed": true
   },
   "outputs": [],
   "source": []
  }
 ],
 "metadata": {
  "kernelspec": {
   "display_name": "Python 3",
   "language": "python",
   "name": "python3"
  },
  "language_info": {
   "codemirror_mode": {
    "name": "ipython",
    "version": 3
   },
   "file_extension": ".py",
   "mimetype": "text/x-python",
   "name": "python",
   "nbconvert_exporter": "python",
   "pygments_lexer": "ipython3",
   "version": "3.6.0"
  }
 },
 "nbformat": 4,
 "nbformat_minor": 2
}
